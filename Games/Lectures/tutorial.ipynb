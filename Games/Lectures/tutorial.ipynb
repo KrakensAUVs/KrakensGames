{
 "cells": [
  {
   "cell_type": "markdown",
   "metadata": {},
   "source": [
    "# Python Baby Steps - Krakens\n",
    " A primeira coisa que devemos fazer antes de começar a programar é..."
   ]
  },
  {
   "cell_type": "code",
   "execution_count": 1,
   "metadata": {},
   "outputs": [
    {
     "name": "stdout",
     "output_type": "stream",
     "text": [
      "hello world!\n"
     ]
    }
   ],
   "source": [
    "print('hello world!')"
   ]
  },
  {
   "cell_type": "markdown",
   "metadata": {},
   "source": [
    "# Variables"
   ]
  },
  {
   "cell_type": "code",
   "execution_count": 2,
   "metadata": {},
   "outputs": [
    {
     "name": "stdout",
     "output_type": "stream",
     "text": [
      "Full Name: Tom Cruise Mapother\n",
      "Type: <class 'str'>\n",
      "Area: 165.0\n",
      "Type: <class 'float'>\n",
      "Values: False True\n",
      "Type: <class 'bool'>\n"
     ]
    }
   ],
   "source": [
    "#string\n",
    "first=\"Tom\"\n",
    "middle=\"Cruise\"\n",
    "last=\"Mapother\"\n",
    "print(\"Full Name:\",first,middle,last)\n",
    "print(\"Type:\",type(first))\n",
    "\n",
    "\n",
    "#numbers\n",
    "base = 15\n",
    "height = 22\n",
    "area = 1/2*(base*height)\n",
    "print(\"Area:\", area)\n",
    "print(\"Type:\",type(area))\n",
    "\n",
    "\n",
    "#boolean\n",
    "learn_python=True\n",
    "learn_fortran=False\n",
    "print(\"Values:\", learn_fortran, learn_python)\n",
    "print(\"Type:\",type(learn_python))"
   ]
  },
  {
   "cell_type": "markdown",
   "metadata": {},
   "source": [
    "# Input "
   ]
  },
  {
   "cell_type": "code",
   "execution_count": 5,
   "metadata": {},
   "outputs": [
    {
     "name": "stdout",
     "output_type": "stream",
     "text": [
      "Enter first number: 3\n",
      "Enter second number: 4\n",
      "Sum is: 7.0\n"
     ]
    }
   ],
   "source": [
    "n1 = input(\"Enter first number: \")\n",
    "n2 = input(\"Enter second number: \")\n",
    "sum = float(n1)+float(n2)\n",
    "# sum = n1 + n2\n",
    "print(\"Sum is:\",sum)"
   ]
  },
  {
   "cell_type": "markdown",
   "metadata": {},
   "source": [
    "# List"
   ]
  },
  {
   "cell_type": "code",
   "execution_count": 6,
   "metadata": {},
   "outputs": [
    {
     "data": {
      "text/plain": [
       "['red', 'green', 'blue', 'yellow', 'black']"
      ]
     },
     "execution_count": 6,
     "metadata": {},
     "output_type": "execute_result"
    }
   ],
   "source": [
    "colors = ['red','green','blue','yellow', 'black']\n",
    "colors"
   ]
  },
  {
   "cell_type": "code",
   "execution_count": 7,
   "metadata": {},
   "outputs": [
    {
     "data": {
      "text/plain": [
       "list"
      ]
     },
     "execution_count": 7,
     "metadata": {},
     "output_type": "execute_result"
    }
   ],
   "source": [
    "type(colors)"
   ]
  },
  {
   "cell_type": "code",
   "execution_count": 8,
   "metadata": {},
   "outputs": [
    {
     "data": {
      "text/plain": [
       "'red'"
      ]
     },
     "execution_count": 8,
     "metadata": {},
     "output_type": "execute_result"
    }
   ],
   "source": [
    "colors[0]"
   ]
  },
  {
   "cell_type": "code",
   "execution_count": 11,
   "metadata": {},
   "outputs": [
    {
     "data": {
      "text/plain": [
       "'black'"
      ]
     },
     "execution_count": 11,
     "metadata": {},
     "output_type": "execute_result"
    }
   ],
   "source": [
    "colors[-1]"
   ]
  },
  {
   "cell_type": "code",
   "execution_count": 15,
   "metadata": {},
   "outputs": [
    {
     "data": {
      "text/plain": [
       "['green', 'blue']"
      ]
     },
     "execution_count": 15,
     "metadata": {},
     "output_type": "execute_result"
    }
   ],
   "source": [
    "colors[1:3]"
   ]
  },
  {
   "cell_type": "code",
   "execution_count": 16,
   "metadata": {},
   "outputs": [
    {
     "data": {
      "text/plain": [
       "['red', 'green']"
      ]
     },
     "execution_count": 16,
     "metadata": {},
     "output_type": "execute_result"
    }
   ],
   "source": [
    "colors[:2]"
   ]
  },
  {
   "cell_type": "code",
   "execution_count": 17,
   "metadata": {},
   "outputs": [
    {
     "data": {
      "text/plain": [
       "['blue', 'yellow', 'black']"
      ]
     },
     "execution_count": 17,
     "metadata": {},
     "output_type": "execute_result"
    }
   ],
   "source": [
    "colors[2:]"
   ]
  },
  {
   "cell_type": "code",
   "execution_count": 18,
   "metadata": {},
   "outputs": [
    {
     "data": {
      "text/plain": [
       "True"
      ]
     },
     "execution_count": 18,
     "metadata": {},
     "output_type": "execute_result"
    }
   ],
   "source": [
    "'red' in colors"
   ]
  },
  {
   "cell_type": "code",
   "execution_count": 20,
   "metadata": {},
   "outputs": [
    {
     "data": {
      "text/plain": [
       "False"
      ]
     },
     "execution_count": 20,
     "metadata": {},
     "output_type": "execute_result"
    }
   ],
   "source": [
    "'grey' in colors"
   ]
  },
  {
   "cell_type": "code",
   "execution_count": 21,
   "metadata": {},
   "outputs": [
    {
     "data": {
      "text/plain": [
       "['red', 'green', 'blue', 'yellow', 'black', 'purple']"
      ]
     },
     "execution_count": 21,
     "metadata": {},
     "output_type": "execute_result"
    }
   ],
   "source": [
    "colors.append('purple')\n",
    "colors"
   ]
  },
  {
   "cell_type": "code",
   "execution_count": 22,
   "metadata": {},
   "outputs": [
    {
     "data": {
      "text/plain": [
       "['red', 'green', 'grey', 'blue', 'yellow', 'black', 'purple']"
      ]
     },
     "execution_count": 22,
     "metadata": {},
     "output_type": "execute_result"
    }
   ],
   "source": [
    "colors.insert(2,'grey')\n",
    "colors"
   ]
  },
  {
   "cell_type": "markdown",
   "metadata": {},
   "source": [
    "# Dict"
   ]
  },
  {
   "cell_type": "code",
   "execution_count": 32,
   "metadata": {},
   "outputs": [],
   "source": [
    "members = {\n",
    "    'board': 6,\n",
    "    'hard': 8,\n",
    "    'mark': 7,\n",
    "    'mech': 9\n",
    "}\n",
    "\n",
    "def add():\n",
    "    squad = input(\"Enter squad name to add: \")\n",
    "    squad = squad.lower()\n",
    "    if squad in members:\n",
    "        print(\"Squad already exist in our dataset. Terminating\")\n",
    "        return\n",
    "    p = input(f\"Enter population for {squad}\")\n",
    "    p = int(p)\n",
    "    members[squad]=p \n",
    "    print_all()\n",
    "\n",
    "def remove():\n",
    "    squad = input(\"Enter squad name to remove: \")\n",
    "    squad = squad.lower()\n",
    "    if squad not in members:\n",
    "        print(\"Squad doesn't exist in our dataset. Terminating\")\n",
    "        return\n",
    "    del members[squad]\n",
    "    print_all()\n",
    "\n",
    "def query():\n",
    "    squad = input(\"Enter squad name to query: \")\n",
    "    squad = squad.lower()\n",
    "    if squad not in members:\n",
    "        print(\"Squad doesn't exist in our dataset. Terminating\")\n",
    "        return\n",
    "    print(f\"Population of {squad} is: {members[squad]}\")\n",
    "\n",
    "def print_all():\n",
    "    for squad, p in members.items():\n",
    "        print(f\"{squad} ==> {p}\")\n",
    "\n",
    "def main():\n",
    "    op = input(\"Enter operation (add, remove, query or print): \")\n",
    "    if op.lower() == 'add':\n",
    "        add()\n",
    "    elif op.lower() == 'remove':\n",
    "        remove()\n",
    "    elif op.lower() == 'query':\n",
    "        query()\n",
    "    elif op.lower() == 'print':\n",
    "        print_all()"
   ]
  },
  {
   "cell_type": "code",
   "execution_count": 33,
   "metadata": {},
   "outputs": [
    {
     "name": "stdout",
     "output_type": "stream",
     "text": [
      "Enter operation (add, remove, query or print): query\n",
      "Enter squad name to query: board\n",
      "Population of board is: 6\n"
     ]
    }
   ],
   "source": [
    " main()"
   ]
  },
  {
   "cell_type": "markdown",
   "metadata": {},
   "source": [
    "# Tuples (unchangeable)"
   ]
  },
  {
   "cell_type": "code",
   "execution_count": 34,
   "metadata": {},
   "outputs": [
    {
     "name": "stdout",
     "output_type": "stream",
     "text": [
      "Enter a radius: 3.14\n",
      "area 30.974846927333925, circumference 19.729201864543903, diameter 6.28\n"
     ]
    }
   ],
   "source": [
    "import math\n",
    "\n",
    "def circle_calc(radius):\n",
    "    area = math.pi*(radius**2)\n",
    "    circumference = 2*math.pi*radius\n",
    "    diameter = 2*radius\n",
    "    return area, circumference,diameter\n",
    "\n",
    "r = input(\"Enter a radius: \")\n",
    "r = float(r)\n",
    "area, c, d = circle_calc(r)\n",
    "print(f\"area {area}, circumference {c}, diameter {d}\")"
   ]
  },
  {
   "cell_type": "markdown",
   "metadata": {},
   "source": [
    "# Strings (and List idx operations)"
   ]
  },
  {
   "cell_type": "code",
   "execution_count": 35,
   "metadata": {},
   "outputs": [],
   "source": [
    "food='spam and eggs!'"
   ]
  },
  {
   "cell_type": "code",
   "execution_count": 36,
   "metadata": {},
   "outputs": [
    {
     "data": {
      "text/plain": [
       "'s'"
      ]
     },
     "execution_count": 36,
     "metadata": {},
     "output_type": "execute_result"
    }
   ],
   "source": [
    "food[0]"
   ]
  },
  {
   "cell_type": "code",
   "execution_count": 37,
   "metadata": {},
   "outputs": [
    {
     "data": {
      "text/plain": [
       "'!'"
      ]
     },
     "execution_count": 37,
     "metadata": {},
     "output_type": "execute_result"
    }
   ],
   "source": [
    "food[-1]"
   ]
  },
  {
   "cell_type": "code",
   "execution_count": 38,
   "metadata": {},
   "outputs": [
    {
     "data": {
      "text/plain": [
       "'spam'"
      ]
     },
     "execution_count": 38,
     "metadata": {},
     "output_type": "execute_result"
    }
   ],
   "source": [
    "food[:4]"
   ]
  },
  {
   "cell_type": "code",
   "execution_count": 39,
   "metadata": {},
   "outputs": [
    {
     "data": {
      "text/plain": [
       "'and'"
      ]
     },
     "execution_count": 39,
     "metadata": {},
     "output_type": "execute_result"
    }
   ],
   "source": [
    "food[5:8]"
   ]
  },
  {
   "cell_type": "code",
   "execution_count": 40,
   "metadata": {},
   "outputs": [
    {
     "data": {
      "text/plain": [
       "'eggs!'"
      ]
     },
     "execution_count": 40,
     "metadata": {},
     "output_type": "execute_result"
    }
   ],
   "source": [
    "food[9:]"
   ]
  },
  {
   "cell_type": "code",
   "execution_count": 41,
   "metadata": {},
   "outputs": [
    {
     "data": {
      "text/plain": [
       "14"
      ]
     },
     "execution_count": 41,
     "metadata": {},
     "output_type": "execute_result"
    }
   ],
   "source": [
    "len(food)"
   ]
  },
  {
   "cell_type": "code",
   "execution_count": 42,
   "metadata": {},
   "outputs": [
    {
     "data": {
      "text/plain": [
       "'SPAM AND EGGS!'"
      ]
     },
     "execution_count": 42,
     "metadata": {},
     "output_type": "execute_result"
    }
   ],
   "source": [
    "food.upper()"
   ]
  },
  {
   "cell_type": "markdown",
   "metadata": {},
   "source": [
    "# If\n"
   ]
  },
  {
   "cell_type": "code",
   "execution_count": 44,
   "metadata": {},
   "outputs": [
    {
     "name": "stdout",
     "output_type": "stream",
     "text": [
      "Enter a number: 3\n",
      "Number is odd\n"
     ]
    }
   ],
   "source": [
    "n = input(\"Enter a number: \")\n",
    "n = int(n)\n",
    "if n%2 == 0:\n",
    "    print(\"Number is even\")\n",
    "else:\n",
    "    print(\"Number is odd\")"
   ]
  },
  {
   "cell_type": "code",
   "execution_count": 45,
   "metadata": {},
   "outputs": [
    {
     "name": "stdout",
     "output_type": "stream",
     "text": [
      "Ternary operator demo\n",
      "Enter a number:2\n",
      "Number is even\n"
     ]
    }
   ],
   "source": [
    "# Ternário\n",
    "print(\"Ternary operator demo\")\n",
    "n = input(\"Enter a number:\")\n",
    "n = int(n)\n",
    "message = \"Number is even\" if n%2==0 else \"Number is odd\"\n",
    "print(message)\t\n"
   ]
  },
  {
   "cell_type": "code",
   "execution_count": 49,
   "metadata": {},
   "outputs": [
    {
     "name": "stdout",
     "output_type": "stream",
     "text": [
      "Enter a dish city:itajuba\n",
      "itajuba is Brazil\n"
     ]
    }
   ],
   "source": [
    "brazil = [\"sao paulo\",\"rio de janeiro\",\"itajuba\",\"florianopolis\"]\n",
    "italy = [\"roma\",\"florenca\",\"milao\"]\n",
    "eua = [\"new york\",\"los angeles\",\"chicago\"]\n",
    "\n",
    "dish = input(\"Enter a dish city:\")\n",
    "\n",
    "if dish in brazil:\n",
    "    print(f\"{dish} is Brazil\")\n",
    "elif dish in italy:\n",
    "    print(f\"{dish} is Italy\")\n",
    "elif dish in eua:\n",
    "    print(f\"{dish} is USA\")\n",
    "else:\n",
    "    print(f\"Based on my limited knowledge, I don't know which cuisine is {dish}\")"
   ]
  },
  {
   "cell_type": "markdown",
   "metadata": {},
   "source": [
    "# Loop\n"
   ]
  },
  {
   "cell_type": "code",
   "execution_count": 53,
   "metadata": {},
   "outputs": [
    {
     "name": "stdout",
     "output_type": "stream",
     "text": [
      "5700\n"
     ]
    }
   ],
   "source": [
    "expenses = [1200,1500,1300,1700]\n",
    "\n",
    "total = 0\n",
    "for el in expenses:\n",
    "    total = total + el\n",
    "print(total)"
   ]
  },
  {
   "cell_type": "code",
   "execution_count": 54,
   "metadata": {},
   "outputs": [
    {
     "name": "stdout",
     "output_type": "stream",
     "text": [
      "Month 1, expense: 1200\n",
      "Month 2, expense: 1500\n",
      "Month 3, expense: 1300\n",
      "Month 4, expense: 1700\n",
      "Total expenses is 5700\n"
     ]
    }
   ],
   "source": [
    "total = 0 \n",
    "for i in range(len(expenses)):\n",
    "    print(f\"Month {i+1}, expense: {expenses[i]}\")\n",
    "    total += expenses[i]\n",
    "print(f\"Total expenses is {total}\")"
   ]
  },
  {
   "cell_type": "code",
   "execution_count": 55,
   "metadata": {},
   "outputs": [
    {
     "name": "stdout",
     "output_type": "stream",
     "text": [
      "0\n",
      "1\n",
      "2\n",
      "3\n",
      "4\n",
      "5\n",
      "6\n",
      "7\n",
      "8\n",
      "9\n",
      "10\n"
     ]
    }
   ],
   "source": [
    "num = 0\n",
    "while num <= 10:\n",
    "    print(num)\n",
    "    num = num+1"
   ]
  },
  {
   "cell_type": "markdown",
   "metadata": {},
   "source": [
    "# Functions"
   ]
  },
  {
   "cell_type": "code",
   "execution_count": 56,
   "metadata": {},
   "outputs": [
    {
     "name": "stdout",
     "output_type": "stream",
     "text": [
      "Print pattern with input=3\n",
      "*\n",
      "**\n",
      "***\n",
      "Print pattern with input=4\n",
      "*\n",
      "**\n",
      "***\n",
      "****\n"
     ]
    }
   ],
   "source": [
    "def print_pattern(n=5):\n",
    "    for i in range(n):\n",
    "        s = ''\n",
    "        for j in range(i+1):\n",
    "            s = f'{s}*' #using f-string\n",
    "        print(s)\n",
    "\n",
    "print(\"Print pattern with input=3\")\n",
    "print_pattern(3)\n",
    "\n",
    "print(\"Print pattern with input=4\")\n",
    "print_pattern(4)\n"
   ]
  },
  {
   "cell_type": "code",
   "execution_count": 59,
   "metadata": {},
   "outputs": [
    {
     "name": "stdout",
     "output_type": "stream",
     "text": [
      "Area of triangle is: 25.0\n",
      "Area of rectangle is: 600\n"
     ]
    }
   ],
   "source": [
    "def calculate_area(dimension1,dimension2,shape=\"triangle\"):\n",
    "    if shape == \"triangle\":\n",
    "        area = 1/2*(dimension1*dimension2) \n",
    "    elif shape == \"rectangle\":\n",
    "        area = dimension1*dimension2 \n",
    "    else:\n",
    "        print(\"***Error: Input shape is neither triangle nor rectangle.\")\n",
    "        area = None \n",
    "    return area\n",
    "\n",
    "base = 10\n",
    "height = 5\n",
    "triangle_area = calculate_area(base,height)\n",
    "print(f\"Area of triangle is: {triangle_area}\")\n",
    "\n",
    "length = 20\n",
    "width = 30\n",
    "rectangle_area = calculate_area(length,width,\"rectangle\")\n",
    "print(f\"Area of rectangle is: {rectangle_area}\")"
   ]
  },
  {
   "cell_type": "markdown",
   "metadata": {},
   "source": [
    "# Read and Write"
   ]
  },
  {
   "cell_type": "code",
   "execution_count": 60,
   "metadata": {
    "scrolled": true
   },
   "outputs": [
    {
     "name": "stdout",
     "output_type": "stream",
     "text": [
      "Teacher: Why are you late, raghu?\n",
      "\n",
      "Raghu: Because of the sign\n",
      "\n",
      "Teacher: What sign?\n",
      "\n",
      "Raghu: The one that says \"School Ahead, Go slow\"\n"
     ]
    }
   ],
   "source": [
    "# read file\n",
    "f = open(\"funny.txt\",\"r\")\n",
    "for line in f:\n",
    "    print(line)\n",
    "f.close()\n"
   ]
  },
  {
   "cell_type": "code",
   "execution_count": 61,
   "metadata": {},
   "outputs": [],
   "source": [
    "# write file\n",
    "f = open(\"funny.txt\",\"a\")\n",
    "f.write(\"\\nI love python\")\n",
    "f.close()"
   ]
  },
  {
   "cell_type": "markdown",
   "metadata": {},
   "source": [
    "# Have Fun"
   ]
  },
  {
   "cell_type": "code",
   "execution_count": 62,
   "metadata": {},
   "outputs": [
    {
     "name": "stdout",
     "output_type": "stream",
     "text": [
      "The Zen of Python, by Tim Peters\n",
      "\n",
      "Beautiful is better than ugly.\n",
      "Explicit is better than implicit.\n",
      "Simple is better than complex.\n",
      "Complex is better than complicated.\n",
      "Flat is better than nested.\n",
      "Sparse is better than dense.\n",
      "Readability counts.\n",
      "Special cases aren't special enough to break the rules.\n",
      "Although practicality beats purity.\n",
      "Errors should never pass silently.\n",
      "Unless explicitly silenced.\n",
      "In the face of ambiguity, refuse the temptation to guess.\n",
      "There should be one-- and preferably only one --obvious way to do it.\n",
      "Although that way may not be obvious at first unless you're Dutch.\n",
      "Now is better than never.\n",
      "Although never is often better than *right* now.\n",
      "If the implementation is hard to explain, it's a bad idea.\n",
      "If the implementation is easy to explain, it may be a good idea.\n",
      "Namespaces are one honking great idea -- let's do more of those!\n"
     ]
    }
   ],
   "source": [
    "import this"
   ]
  },
  {
   "cell_type": "code",
   "execution_count": 63,
   "metadata": {},
   "outputs": [
    {
     "ename": "SyntaxError",
     "evalue": "not a chance (<ipython-input-63-6d5c5b2f0daf>, line 1)",
     "output_type": "error",
     "traceback": [
      "\u001b[0;36m  File \u001b[0;32m\"<ipython-input-63-6d5c5b2f0daf>\"\u001b[0;36m, line \u001b[0;32m1\u001b[0m\n\u001b[0;31m    from __future__ import braces\u001b[0m\n\u001b[0m    ^\u001b[0m\n\u001b[0;31mSyntaxError\u001b[0m\u001b[0;31m:\u001b[0m not a chance\n"
     ]
    }
   ],
   "source": [
    "from __future__ import braces"
   ]
  },
  {
   "cell_type": "code",
   "execution_count": 64,
   "metadata": {},
   "outputs": [],
   "source": [
    "import antigravity"
   ]
  },
  {
   "cell_type": "code",
   "execution_count": null,
   "metadata": {},
   "outputs": [],
   "source": []
  }
 ],
 "metadata": {
  "interpreter": {
   "hash": "31f2aee4e71d21fbe5cf8b01ff0e069b9275f58929596ceb00d14d90e3e16cd6"
  },
  "kernelspec": {
   "display_name": "Python 3",
   "language": "python",
   "name": "python3"
  },
  "language_info": {
   "codemirror_mode": {
    "name": "ipython",
    "version": 3
   },
   "file_extension": ".py",
   "mimetype": "text/x-python",
   "name": "python",
   "nbconvert_exporter": "python",
   "pygments_lexer": "ipython3",
   "version": "3.8.10"
  }
 },
 "nbformat": 4,
 "nbformat_minor": 2
}
